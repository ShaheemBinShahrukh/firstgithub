{
 "cells": [
  {
   "cell_type": "markdown",
   "id": "95f84b65",
   "metadata": {},
   "source": [
    "# Import Libararies\n",
    "Seaborn automatically install these libararies\n",
    "- numpy\n",
    "- scipy\n",
    "- pandas\n",
    "- matplotlib"
   ]
  },
  {
   "cell_type": "code",
   "execution_count": null,
   "id": "8e7d7391",
   "metadata": {},
   "outputs": [],
   "source": [
    "import seaborn as sns\n",
    "import matplotlib.pyplot as plt\n",
    "\n",
    "# Load dataset\n",
    "phool = sns.load_dataset(\"iris\")\n",
    "phool\n",
    "\n",
    "# Draw a Line Plot\n",
    "sns.lineplot(x=\"sepal_length\", y=\"sepal_width\", data=phool)\n",
    "plt.show()"
   ]
  },
  {
   "cell_type": "markdown",
   "id": "89d517a9",
   "metadata": {},
   "source": [
    "# Adding Titles"
   ]
  },
  {
   "cell_type": "code",
   "execution_count": null,
   "id": "69acbc38",
   "metadata": {},
   "outputs": [],
   "source": [
    "import seaborn as sns\n",
    "import matplotlib.pyplot as plt\n",
    "\n",
    "# Load dataset\n",
    "phool = sns.load_dataset(\"iris\")\n",
    "phool\n",
    "\n",
    "# Draw a Line Plot\n",
    "sns.lineplot(x=\"sepal_length\", y=\"sepal_width\", data=phool)\n",
    "plt.title (\"Flower's Plot\")\n",
    "plt.show()"
   ]
  },
  {
   "cell_type": "markdown",
   "id": "60cea5d9",
   "metadata": {},
   "source": [
    "# Adding Limits"
   ]
  },
  {
   "cell_type": "code",
   "execution_count": null,
   "id": "64ace928",
   "metadata": {},
   "outputs": [],
   "source": [
    "import seaborn as sns\n",
    "import matplotlib.pyplot as plt\n",
    "\n",
    "# Load dataset\n",
    "phool = sns.load_dataset(\"iris\")\n",
    "phool\n",
    "\n",
    "# Draw a Line Plot\n",
    "sns.lineplot(x=\"sepal_length\", y=\"sepal_width\", data=phool)\n",
    "plt.title (\"Flower's Plot\")\n",
    "plt.xlim (3)\n",
    "plt.ylim (1)\n",
    "plt.show()"
   ]
  },
  {
   "cell_type": "markdown",
   "id": "087ff447",
   "metadata": {},
   "source": [
    "# Set Styles\n",
    "- darkgrid\n",
    "- white grid\n",
    "- dark \n",
    "- white\n",
    "- ticks"
   ]
  },
  {
   "cell_type": "code",
   "execution_count": null,
   "id": "a916dfb5",
   "metadata": {},
   "outputs": [],
   "source": [
    "import seaborn as sns\n",
    "import matplotlib.pyplot as plt\n",
    "\n",
    "# Load dataset\n",
    "phool = sns.load_dataset(\"iris\")\n",
    "phool\n",
    "\n",
    "# Draw a Line Plot\n",
    "sns.lineplot(x=\"sepal_length\", y=\"sepal_width\", data=phool)\n",
    "plt.title (\"Flower's Plot\")\n",
    "sns.set_style (\"ticks\")\n",
    "sns.set_style (style = None, rc = None)\n",
    "plt.show()"
   ]
  },
  {
   "cell_type": "markdown",
   "id": "3c01fb31",
   "metadata": {},
   "source": [
    "# Size Of Figure"
   ]
  },
  {
   "cell_type": "code",
   "execution_count": null,
   "id": "d1915e81",
   "metadata": {},
   "outputs": [],
   "source": [
    "import seaborn as sns\n",
    "import matplotlib.pyplot as plt\n",
    "\n",
    "# Load dataset\n",
    "phool = sns.load_dataset(\"iris\")\n",
    "phool\n",
    "\n",
    "# Change Figure\n",
    "plt.figure (figsize=(8,6))\n",
    "\n",
    "# Draw a Line Plot\n",
    "sns.lineplot(x=\"sepal_length\", y=\"sepal_width\", data=phool)\n",
    "plt.title (\"Flower's Plot\")\n",
    "\n",
    "plt.show()"
   ]
  }
 ],
 "metadata": {
  "kernelspec": {
   "display_name": "Python 3 (ipykernel)",
   "language": "python",
   "name": "python3"
  },
  "language_info": {
   "codemirror_mode": {
    "name": "ipython",
    "version": 3
   },
   "file_extension": ".py",
   "mimetype": "text/x-python",
   "name": "python",
   "nbconvert_exporter": "python",
   "pygments_lexer": "ipython3",
   "version": "3.10.9"
  }
 },
 "nbformat": 4,
 "nbformat_minor": 5
}
