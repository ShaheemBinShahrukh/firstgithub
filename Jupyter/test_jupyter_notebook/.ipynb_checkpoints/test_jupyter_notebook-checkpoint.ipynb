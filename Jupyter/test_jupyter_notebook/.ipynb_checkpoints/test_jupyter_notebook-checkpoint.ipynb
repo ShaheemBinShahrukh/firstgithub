{
 "cells": [
  {
   "cell_type": "markdown",
   "id": "edcac265",
   "metadata": {},
   "source": [
    "# Python ka Chilla #baba_aamar\n",
    "## How to Use Jupyter Note Book\n",
    "### Basics Of Python\n",
    "\n",
    "**01- First Program**\n"
   ]
  },
  {
   "cell_type": "code",
   "execution_count": 1,
   "id": "04f566c5",
   "metadata": {},
   "outputs": [
    {
     "name": "stdout",
     "output_type": "stream",
     "text": [
      "5\n",
      "Hello World\n",
      "My Name Is Shaheem\n"
     ]
    }
   ],
   "source": [
    "print (2+3)\n",
    "print (\"Hello World\")\n",
    "print (\"My Name Is Shaheem\")"
   ]
  },
  {
   "cell_type": "markdown",
   "id": "98e9b6b6",
   "metadata": {},
   "source": [
    "**02- Operators**"
   ]
  },
  {
   "cell_type": "code",
   "execution_count": 2,
   "id": "cc594977",
   "metadata": {},
   "outputs": [
    {
     "name": "stdout",
     "output_type": "stream",
     "text": [
      "3\n",
      "2\n",
      "3.0\n",
      "6\n",
      "1\n",
      "3\n",
      "8\n",
      "6.5\n"
     ]
    }
   ],
   "source": [
    "\n",
    "print (2+1)\n",
    "print (3-1)\n",
    "print (6/2)\n",
    "print (2*3)\n",
    "print (13%2)\n",
    "print (6//2)\n",
    "print (2**3)\n",
    "\n",
    "print (3**2/2*3/3+6-4)\n",
    "\n",
    "# PEMDAS\n",
    "# Parenthesis, Exponents, Multiply, Divide, Addition, Substraction\n",
    "# Left To Right Sequence for Multiplication Division & Addition Substraction"
   ]
  },
  {
   "cell_type": "markdown",
   "id": "d7e76502",
   "metadata": {},
   "source": [
    "**03- Strings**\n"
   ]
  },
  {
   "cell_type": "code",
   "execution_count": 3,
   "id": "15e3d113",
   "metadata": {},
   "outputs": [
    {
     "name": "stdout",
     "output_type": "stream",
     "text": [
      "Hello World\n",
      "My Name Is Shaheem\n",
      "Test for single quotes\n",
      "Test for double quotes\n",
      "Test for tripple quotes\n",
      "   What's Up?   \n"
     ]
    }
   ],
   "source": [
    "print (\"Hello World\")\n",
    "print (\"My Name Is Shaheem\")\n",
    "print ('Test for single quotes')\n",
    "print (\"Test for double quotes\")\n",
    "print ('''Test for tripple quotes''')\n",
    "print (\"   What's Up?   \")\n",
    "# Strings_Clear"
   ]
  },
  {
   "cell_type": "markdown",
   "id": "3ba2a61a",
   "metadata": {},
   "source": [
    "**04- Comments**"
   ]
  },
  {
   "cell_type": "code",
   "execution_count": 4,
   "id": "10c3884a",
   "metadata": {},
   "outputs": [
    {
     "name": "stdout",
     "output_type": "stream",
     "text": [
      "My Name Is Shaheem\n",
      "I am Learning Python From Codanics\n",
      "8\n"
     ]
    }
   ],
   "source": [
    "print (\"My Name Is Shaheem\") # press (Ctrl + /) to comment out\n",
    "print (\"I am Learning Python From Codanics\")  # print a string\n",
    "print (2+6) # print operators function with numbers"
   ]
  },
  {
   "cell_type": "markdown",
   "id": "1709e748",
   "metadata": {},
   "source": [
    "**05- Variables**"
   ]
  },
  {
   "cell_type": "code",
   "execution_count": 5,
   "id": "45ac5df2",
   "metadata": {},
   "outputs": [
    {
     "name": "stdout",
     "output_type": "stream",
     "text": [
      "5\n",
      "I am learning Python From Codanics\n",
      "20\n",
      "<class 'str'>\n",
      "<class 'int'>\n",
      "Bitcoin\n"
     ]
    }
   ],
   "source": [
    "# Variables: objects containing specific values\n",
    "x = 5 \n",
    "print (x)\n",
    "\n",
    "y=  \"I am learning Python From Codanics\" # String Variable\n",
    "print (y)\n",
    "\n",
    "x = x+15 # or x = 20\n",
    "print (x)\n",
    "\n",
    "# Types oF Variables\n",
    "type (x)\n",
    "print (type(y))\n",
    "\n",
    "# print_type_class\n",
    "\n",
    "# Rules to assign a variable:\n",
    "# 1- The variable should contain letters, numbers or underscores\n",
    "# 2- Do not start with numbers\n",
    "# 3- Spaces are not allowed\n",
    "# 4- Do not use keywords used in functions (False, None, True, and, as, assert, \n",
    "# break, class, continue, def, del, elif, else, except, finally, for, from, global,\n",
    "# if, import, in, is, lambda, nonlocal, not, or, pass, raise, return, try,, while, with, yield.)\n",
    "# 5- Short and descriptive \n",
    "# 6- Case Senstivity (Lowercase, uppercase letters, lower case letters should be used)\n",
    "\n",
    "Total_Crypto = 25391\n",
    "Top_Crypto = \"Bitcoin\"\n",
    "print (type(Total_Crypto))\n",
    "print (Top_Crypto)"
   ]
  },
  {
   "cell_type": "markdown",
   "id": "78438c49",
   "metadata": {},
   "source": [
    "**06- Input_Variables**"
   ]
  },
  {
   "cell_type": "code",
   "execution_count": 6,
   "id": "ea71832b",
   "metadata": {},
   "outputs": [
    {
     "name": "stdout",
     "output_type": "stream",
     "text": [
      "Mangoes\n",
      "What is your favourite fruit? Magoes\n",
      "Magoes\n",
      "What is your name? Shahaeem\n",
      "Hello! Shahaeem\n",
      "What Is Your Name? Shaheem\n",
      "Hello! Shaheem\n",
      "What is your name? Shaheem\n",
      "How old are you? 15\n",
      "Welcome Shaheem ,You Are Too Young!\n"
     ]
    }
   ],
   "source": [
    "fruit_basket=\"Mangoes\"\n",
    "print (fruit_basket)\n",
    "\n",
    "#-Input Function Simple\n",
    "fruit_basket = input (\"What is your favourite fruit? \")\n",
    "print (fruit_basket)\n",
    "\n",
    "#-Input Function of 2nd Stage\n",
    "name = input(\"What is your name? \")\n",
    "greetings = \"Hello!\"\n",
    "print(greetings, name)\n",
    "\n",
    "#-Another Way of stage 2 Input Function\n",
    "name = input (\"What Is Your Name? \")\n",
    "print ('Hello!', name)\n",
    "\n",
    "#-3rd Stage Input Function\n",
    "name = input (\"What is your name? \")\n",
    "age =  input (\"How old are you? \")\n",
    "greetings = \"Welcome\"\n",
    "\n",
    "print (greetings, name, \",You Are Too Young!\")"
   ]
  },
  {
   "cell_type": "markdown",
   "id": "02a3a4e7",
   "metadata": {},
   "source": [
    "**07- Conditional_Logics**"
   ]
  },
  {
   "cell_type": "code",
   "execution_count": 7,
   "id": "55fb6638",
   "metadata": {},
   "outputs": [
    {
     "name": "stdout",
     "output_type": "stream",
     "text": [
      "True\n",
      "False\n",
      "True\n",
      "False\n",
      "True\n",
      "True\n",
      "False\n",
      "How old is Shamisah? 3\n",
      "<class 'int'>\n",
      "False\n"
     ]
    }
   ],
   "source": [
    "# equal to                   ==\n",
    "# not equal to               !=\n",
    "# less than                  <\n",
    "# greater than               >\n",
    "# less than and equal to     <=\n",
    "# greater than and equal to  >==\n",
    "\n",
    "# is 4 equal to 4?\n",
    "print (4==4)\n",
    "print (4!=4)\n",
    "print (4>3)\n",
    "print (3>6)\n",
    "print (3<5)\n",
    "print (5>=4)\n",
    "\n",
    "#-Application of logical operators\n",
    "Shamisah_age = 4\n",
    "age_at_School= 5\n",
    "print (Shamisah_age==age_at_School)\n",
    "\n",
    "#-Input function and logical operator\n",
    "age_at_School= 5\n",
    "Shamisah_age = input (\"How old is Shamisah? \") # Input Function\n",
    "Shamisah_age = int (Shamisah_age)\n",
    "print (type (Shamisah_age))\n",
    "print (Shamisah_age==age_at_School) # Logical Operator\n",
    "\n",
    "#convert input"
   ]
  },
  {
   "cell_type": "markdown",
   "id": "75519224",
   "metadata": {},
   "source": [
    "**08- Type_Conversion**"
   ]
  },
  {
   "cell_type": "code",
   "execution_count": 8,
   "id": "519db4d6",
   "metadata": {},
   "outputs": [
    {
     "name": "stdout",
     "output_type": "stream",
     "text": [
      "What's is your age? 15\n",
      "15 <class 'int'>\n",
      "What is your name? Shaheem\n",
      "Shaheem <class 'str'>\n"
     ]
    }
   ],
   "source": [
    "# x = 10       # Integer\n",
    "# y = 10.2     # Float\n",
    "# z = \"Hello\"  # String\n",
    "\n",
    "# x =  x+y\n",
    "# print (x, \"Type of x is:\", type (x))\n",
    "\n",
    "#-Explicit Type Conversion\n",
    "age =  input (\"What's is your age? \")\n",
    "age = int (age)\n",
    "print (age, type (int (age)))\n",
    "\n",
    "#-Name\n",
    "name = input (\"What is your name? \")\n",
    "print (name, type (str (name)) )\n",
    "\n",
    "#type_conversion"
   ]
  },
  {
   "cell_type": "markdown",
   "id": "2d94bbb2",
   "metadata": {},
   "source": [
    "**09- if_Else&Elif**"
   ]
  },
  {
   "cell_type": "code",
   "execution_count": 9,
   "id": "71d740f7",
   "metadata": {},
   "outputs": [
    {
     "name": "stdout",
     "output_type": "stream",
     "text": [
      "Shamisah should join higher secondary school\n"
     ]
    }
   ],
   "source": [
    "Shamisah_age = 8\n",
    "required_age_at_school = 5\n",
    "# Question: Can Shamisah go to school?\n",
    "\n",
    "if Shamisah_age==required_age_at_school:\n",
    "    print (\"Congratulations! Shamisah can join the School.\")\n",
    "elif Shamisah_age > required_age_at_school:\n",
    "    print (\"Shamisah should join higher secondary school\")\n",
    "elif Shamisah_age <= 2:\n",
    "    print (\"You should take care of Shamisah, She is still a baby!\")\n",
    "else:\n",
    "    print (\"Shamisah can not go to School\")    \n",
    "\n",
    "# if, elif, else statement clear."
   ]
  },
  {
   "cell_type": "markdown",
   "id": "f6a8aa5f",
   "metadata": {},
   "source": [
    "**10- Functions**"
   ]
  },
  {
   "cell_type": "code",
   "execution_count": 10,
   "id": "0faaebf7",
   "metadata": {},
   "outputs": [
    {
     "name": "stdout",
     "output_type": "stream",
     "text": [
      "20\n"
     ]
    }
   ],
   "source": [
    "#-Defining a Function\n",
    "#-1\n",
    "# def print_codanics ():\n",
    "#     print (\"We are learning with Ammar\")\n",
    "#     print (\"We are learning with Ammar\")\n",
    "#     print (\"We are learning with Ammar\")\n",
    "\n",
    "# print_codanics()\n",
    "\n",
    "#-2 \n",
    "# def print_codanics ():\n",
    "#     text = \"I am Learning with Aammar\"\n",
    "#     print (text)\n",
    "#     print (text)\n",
    "#     print (text)\n",
    "\n",
    "# print_codanics ()\n",
    "\n",
    "#-3 \n",
    "# def print_codanics (text):\n",
    "#     print (text)\n",
    "#     print (text)\n",
    "#     print (text)\n",
    "\n",
    "# print_codanics (\"I am Learning Pyhton from Codanics\")\n",
    "\n",
    "#-Defining a Function with IF, elif and else statements\n",
    "\n",
    "# def school_calculator (age):\n",
    "#     if age==5:\n",
    "#         print (\"Shamisah can join the school\")\n",
    "#     elif age>5:\n",
    "#         print (\"Shamisah should go to higher school\") \n",
    "#     else:\n",
    "#         print (\"Shamisah is still a baby\")\n",
    "\n",
    "# school_calculator (15)\n",
    "\n",
    "#-Defining a Function of Future\n",
    "\n",
    "def future_age (age):\n",
    "    new_age = age + 3\n",
    "    return new_age\n",
    "    print (new_age)\n",
    "\n",
    "future_predicted_age = future_age (17)\n",
    "print (future_predicted_age)"
   ]
  },
  {
   "cell_type": "markdown",
   "id": "0c038ad0",
   "metadata": {},
   "source": [
    "**11- Loops**"
   ]
  },
  {
   "cell_type": "code",
   "execution_count": 11,
   "id": "06bb2f0e",
   "metadata": {},
   "outputs": [
    {
     "name": "stdout",
     "output_type": "stream",
     "text": [
      "Mon\n",
      "Tue\n",
      "Wed\n",
      "Thu\n",
      "Sat\n",
      "Sun\n"
     ]
    }
   ],
   "source": [
    "#- While and For Loops\n",
    "# While Loops\n",
    "\n",
    "# x = 0\n",
    "# while (x<=5) :\n",
    "#     print (x)\n",
    "#     x = x + 1\n",
    "\n",
    "#-For Loop\n",
    "\n",
    "# for x in range (1,10):\n",
    "#     print (x)\n",
    "\n",
    "#-Array\n",
    "days = [\"Mon\", \"Tue\", \"Wed\", \"Thu\", \"Fri\", \"Sat\", \"Sun\"]\n",
    "\n",
    "for d in days:\n",
    "    # if (d==\"Fri\"): break # Stops Loop\n",
    "    if (d==\"Fri\"): continue #Skips d\n",
    "    print (d)"
   ]
  },
  {
   "cell_type": "markdown",
   "id": "1082dc35",
   "metadata": {},
   "source": [
    "**12-  Import_Libararies**"
   ]
  },
  {
   "cell_type": "code",
   "execution_count": 12,
   "id": "fea891bd",
   "metadata": {},
   "outputs": [
    {
     "name": "stdout",
     "output_type": "stream",
     "text": [
      "300\n"
     ]
    }
   ],
   "source": [
    "#-If you want to print the value of pi\n",
    "\n",
    "# import math\n",
    "# print (\"The Value of pi is\", math.pi)\n",
    "\n",
    "import statistics\n",
    "x = [150, 250, 350, 450]\n",
    "print (statistics.mean (x))\n",
    "\n",
    "# Numpy, pandas"
   ]
  },
  {
   "cell_type": "markdown",
   "id": "6a7acb67",
   "metadata": {},
   "source": [
    "**13- Trouble_Shooting**"
   ]
  },
  {
   "cell_type": "code",
   "execution_count": 15,
   "id": "7c24390e",
   "metadata": {},
   "outputs": [
    {
     "name": "stdout",
     "output_type": "stream",
     "text": [
      "Hello Shaheem\n"
     ]
    },
    {
     "ename": "TypeError",
     "evalue": "unsupported operand type(s) for >>: 'NoneType' and 'str'",
     "output_type": "error",
     "traceback": [
      "\u001b[1;31m---------------------------------------------------------------------------\u001b[0m",
      "\u001b[1;31mTypeError\u001b[0m                                 Traceback (most recent call last)",
      "Cell \u001b[1;32mIn[15], line 6\u001b[0m\n\u001b[0;32m      1\u001b[0m \u001b[38;5;66;03m# print (I am learning python from Codanics) #-Syntax error\u001b[39;00m\n\u001b[0;32m      2\u001b[0m \n\u001b[0;32m      3\u001b[0m \u001b[38;5;66;03m# print (25/0) #-Runtime error\u001b[39;00m\n\u001b[0;32m      5\u001b[0m name \u001b[38;5;241m=\u001b[39m \u001b[38;5;124m\"\u001b[39m\u001b[38;5;124mShaheem\u001b[39m\u001b[38;5;124m\"\u001b[39m\n\u001b[1;32m----> 6\u001b[0m \u001b[38;5;28;43mprint\u001b[39;49m\u001b[43m \u001b[49m\u001b[43m(\u001b[49m\u001b[38;5;124;43m\"\u001b[39;49m\u001b[38;5;124;43mHello\u001b[39;49m\u001b[38;5;124;43m\"\u001b[39;49m\u001b[43m,\u001b[49m\u001b[43mname\u001b[49m\u001b[43m)\u001b[49m\u001b[43m  \u001b[49m\u001b[38;5;241;43m>>\u001b[39;49m\u001b[43m \u001b[49m\u001b[43m(\u001b[49m\u001b[38;5;124;43m\"\u001b[39;49m\u001b[38;5;124;43mHello name\u001b[39;49m\u001b[38;5;124;43m\"\u001b[39;49m\u001b[43m)\u001b[49m\n",
      "\u001b[1;31mTypeError\u001b[0m: unsupported operand type(s) for >>: 'NoneType' and 'str'"
     ]
    }
   ],
   "source": [
    "# print (I am learning python from Codanics) #-Syntax error\n",
    "\n",
    "# print (25/0) #-Runtime error\n",
    "\n",
    "name = \"Shaheem\"\n",
    "print (\"Hello\",name)  >> (\"Hello name\") #-Semantics error\n",
    "\n",
    "#trouble shooting is easy"
   ]
  },
  {
   "cell_type": "code",
   "execution_count": null,
   "id": "19910b37",
   "metadata": {},
   "outputs": [],
   "source": []
  }
 ],
 "metadata": {
  "kernelspec": {
   "display_name": "Python 3 (ipykernel)",
   "language": "python",
   "name": "python3"
  },
  "language_info": {
   "codemirror_mode": {
    "name": "ipython",
    "version": 3
   },
   "file_extension": ".py",
   "mimetype": "text/x-python",
   "name": "python",
   "nbconvert_exporter": "python",
   "pygments_lexer": "ipython3",
   "version": "3.10.9"
  }
 },
 "nbformat": 4,
 "nbformat_minor": 5
}
