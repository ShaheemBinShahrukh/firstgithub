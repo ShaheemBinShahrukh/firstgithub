{
 "cells": [
  {
   "cell_type": "markdown",
   "id": "36faa11b",
   "metadata": {},
   "source": [
    "# - Indexing"
   ]
  },
  {
   "cell_type": "code",
   "execution_count": 3,
   "id": "e0fcdb55",
   "metadata": {
    "scrolled": true
   },
   "outputs": [
    {
     "data": {
      "text/plain": [
       "'samosa pakora'"
      ]
     },
     "execution_count": 3,
     "metadata": {},
     "output_type": "execute_result"
    }
   ],
   "source": [
    "#make  a string\n",
    "a = \"samosa pakora\"\n",
    "a"
   ]
  },
  {
   "cell_type": "code",
   "execution_count": 4,
   "id": "00fc2d87",
   "metadata": {
    "scrolled": true
   },
   "outputs": [
    {
     "data": {
      "text/plain": [
       "'samosa pakora'"
      ]
     },
     "execution_count": 4,
     "metadata": {},
     "output_type": "execute_result"
    }
   ],
   "source": [
    "a"
   ]
  },
  {
   "cell_type": "code",
   "execution_count": 6,
   "id": "bca7347b",
   "metadata": {},
   "outputs": [
    {
     "data": {
      "text/plain": [
       "13"
      ]
     },
     "execution_count": 6,
     "metadata": {},
     "output_type": "execute_result"
    }
   ],
   "source": [
    "# length of indeces\n",
    "len (a)"
   ]
  },
  {
   "cell_type": "code",
   "execution_count": 5,
   "id": "a809617e",
   "metadata": {},
   "outputs": [
    {
     "data": {
      "text/plain": [
       "'s'"
      ]
     },
     "execution_count": 5,
     "metadata": {},
     "output_type": "execute_result"
    }
   ],
   "source": [
    "a [0]"
   ]
  },
  {
   "cell_type": "code",
   "execution_count": 7,
   "id": "0ad140e2",
   "metadata": {},
   "outputs": [
    {
     "data": {
      "text/plain": [
       "'a'"
      ]
     },
     "execution_count": 7,
     "metadata": {},
     "output_type": "execute_result"
    }
   ],
   "source": [
    "a [1]"
   ]
  },
  {
   "cell_type": "code",
   "execution_count": 8,
   "id": "eee5e946",
   "metadata": {},
   "outputs": [
    {
     "data": {
      "text/plain": [
       "'o'"
      ]
     },
     "execution_count": 8,
     "metadata": {},
     "output_type": "execute_result"
    }
   ],
   "source": [
    "a [3]"
   ]
  },
  {
   "cell_type": "code",
   "execution_count": 10,
   "id": "73e78e10",
   "metadata": {},
   "outputs": [
    {
     "data": {
      "text/plain": [
       "'a'"
      ]
     },
     "execution_count": 10,
     "metadata": {},
     "output_type": "execute_result"
    }
   ],
   "source": [
    "a [12]"
   ]
  },
  {
   "cell_type": "code",
   "execution_count": 11,
   "id": "082b9064",
   "metadata": {},
   "outputs": [
    {
     "data": {
      "text/plain": [
       "'samos'"
      ]
     },
     "execution_count": 11,
     "metadata": {},
     "output_type": "execute_result"
    }
   ],
   "source": [
    "a [ 0:5]"
   ]
  },
  {
   "cell_type": "code",
   "execution_count": 12,
   "id": "b4184bc4",
   "metadata": {},
   "outputs": [
    {
     "data": {
      "text/plain": [
       "'samosa pakora'"
      ]
     },
     "execution_count": 12,
     "metadata": {},
     "output_type": "execute_result"
    }
   ],
   "source": [
    "# last index is exclusive\n",
    "a [0:13]"
   ]
  },
  {
   "cell_type": "code",
   "execution_count": 13,
   "id": "179d16d6",
   "metadata": {},
   "outputs": [
    {
     "data": {
      "text/plain": [
       "'p'"
      ]
     },
     "execution_count": 13,
     "metadata": {},
     "output_type": "execute_result"
    }
   ],
   "source": [
    "a [-6]"
   ]
  },
  {
   "cell_type": "code",
   "execution_count": 14,
   "id": "c21eb19a",
   "metadata": {},
   "outputs": [
    {
     "data": {
      "text/plain": [
       "'pakor'"
      ]
     },
     "execution_count": 14,
     "metadata": {},
     "output_type": "execute_result"
    }
   ],
   "source": [
    "a [-6 : -1]"
   ]
  },
  {
   "cell_type": "code",
   "execution_count": 15,
   "id": "a812caa0",
   "metadata": {},
   "outputs": [
    {
     "data": {
      "text/plain": [
       "'samosa'"
      ]
     },
     "execution_count": 15,
     "metadata": {},
     "output_type": "execute_result"
    }
   ],
   "source": [
    "a [ 0:6]"
   ]
  },
  {
   "cell_type": "code",
   "execution_count": 16,
   "id": "02aac136",
   "metadata": {},
   "outputs": [
    {
     "data": {
      "text/plain": [
       "'pakora'"
      ]
     },
     "execution_count": 16,
     "metadata": {},
     "output_type": "execute_result"
    }
   ],
   "source": [
    "a [-6:13]"
   ]
  },
  {
   "cell_type": "code",
   "execution_count": 23,
   "id": "4a8d9319",
   "metadata": {},
   "outputs": [
    {
     "data": {
      "text/plain": [
       "'biryani'"
      ]
     },
     "execution_count": 23,
     "metadata": {},
     "output_type": "execute_result"
    }
   ],
   "source": [
    "food = \"biryani\"\n",
    "food"
   ]
  },
  {
   "cell_type": "markdown",
   "id": "bdb72412",
   "metadata": {},
   "source": [
    "## - String Methods"
   ]
  },
  {
   "cell_type": "code",
   "execution_count": 19,
   "id": "91743c44",
   "metadata": {},
   "outputs": [
    {
     "data": {
      "text/plain": [
       "'Biryani'"
      ]
     },
     "execution_count": 19,
     "metadata": {},
     "output_type": "execute_result"
    }
   ],
   "source": [
    "food"
   ]
  },
  {
   "cell_type": "code",
   "execution_count": 21,
   "id": "f922a57b",
   "metadata": {},
   "outputs": [
    {
     "data": {
      "text/plain": [
       "7"
      ]
     },
     "execution_count": 21,
     "metadata": {},
     "output_type": "execute_result"
    }
   ],
   "source": [
    "len (food)"
   ]
  },
  {
   "cell_type": "code",
   "execution_count": 22,
   "id": "b805ac50",
   "metadata": {},
   "outputs": [
    {
     "data": {
      "text/plain": [
       "'Biryani'"
      ]
     },
     "execution_count": 22,
     "metadata": {},
     "output_type": "execute_result"
    }
   ],
   "source": [
    "# Capitalize every Element\n",
    "food.capitalize()"
   ]
  },
  {
   "cell_type": "code",
   "execution_count": 4,
   "id": "0be45655",
   "metadata": {},
   "outputs": [
    {
     "data": {
      "text/plain": [
       "'BIRYANI'"
      ]
     },
     "execution_count": 4,
     "metadata": {},
     "output_type": "execute_result"
    }
   ],
   "source": [
    "# Uppercase Letters\n",
    "food = \"Biryani\"\n",
    "food\n",
    "food.upper()"
   ]
  },
  {
   "cell_type": "code",
   "execution_count": 52,
   "id": "ba83108b",
   "metadata": {},
   "outputs": [
    {
     "data": {
      "text/plain": [
       "'biryani'"
      ]
     },
     "execution_count": 52,
     "metadata": {},
     "output_type": "execute_result"
    }
   ],
   "source": [
    "# Lowercase Letters\n",
    "food = \"Biryani\"\n",
    "food\n",
    "food.lower()"
   ]
  },
  {
   "cell_type": "code",
   "execution_count": 53,
   "id": "20a718c4",
   "metadata": {},
   "outputs": [
    {
     "data": {
      "text/plain": [
       "'Shiryani'"
      ]
     },
     "execution_count": 53,
     "metadata": {},
     "output_type": "execute_result"
    }
   ],
   "source": [
    "# Replace\n",
    "food.replace(\"B\", \"Sh\")"
   ]
  },
  {
   "cell_type": "code",
   "execution_count": 54,
   "id": "e890e141",
   "metadata": {},
   "outputs": [
    {
     "data": {
      "text/plain": [
       "'Learning Python With Baba Aammar'"
      ]
     },
     "execution_count": 54,
     "metadata": {},
     "output_type": "execute_result"
    }
   ],
   "source": [
    "# Counting a Specific Alphabet in a String\n",
    "name = \"Learning Python With Baba Aammar\"\n",
    "name"
   ]
  },
  {
   "cell_type": "code",
   "execution_count": 56,
   "id": "91a118e5",
   "metadata": {
    "scrolled": true
   },
   "outputs": [
    {
     "data": {
      "text/plain": [
       "5"
      ]
     },
     "execution_count": 56,
     "metadata": {},
     "output_type": "execute_result"
    }
   ],
   "source": [
    "name.count(\"a\")"
   ]
  },
  {
   "cell_type": "markdown",
   "id": "c86f8cd3",
   "metadata": {},
   "source": [
    "### -Finding an Index Number In String"
   ]
  },
  {
   "cell_type": "code",
   "execution_count": 71,
   "id": "c84f6ea0",
   "metadata": {},
   "outputs": [
    {
     "data": {
      "text/plain": [
       "'Learning Python With Baba Aammar'"
      ]
     },
     "execution_count": 71,
     "metadata": {},
     "output_type": "execute_result"
    }
   ],
   "source": [
    "name = \"Learning Python With Baba Aammar\"\n",
    "name"
   ]
  },
  {
   "cell_type": "code",
   "execution_count": 74,
   "id": "c7272a14",
   "metadata": {
    "scrolled": true
   },
   "outputs": [
    {
     "data": {
      "text/plain": [
       "21"
      ]
     },
     "execution_count": 74,
     "metadata": {},
     "output_type": "execute_result"
    }
   ],
   "source": [
    "name.find(\"B\")"
   ]
  },
  {
   "cell_type": "code",
   "execution_count": 75,
   "id": "94fef27a",
   "metadata": {},
   "outputs": [
    {
     "data": {
      "text/plain": [
       "'I love Falooda, Pizza, Fries, Fruit Chat'"
      ]
     },
     "execution_count": 75,
     "metadata": {},
     "output_type": "execute_result"
    }
   ],
   "source": [
    "### How To Split a String\n",
    "food = \"I love Falooda, Pizza, Fries, Fruit Chat\"\n",
    "food"
   ]
  },
  {
   "cell_type": "code",
   "execution_count": 76,
   "id": "9c7024ef",
   "metadata": {},
   "outputs": [
    {
     "data": {
      "text/plain": [
       "['I love Falooda', ' Pizza', ' Fries', ' Fruit Chat']"
      ]
     },
     "execution_count": 76,
     "metadata": {},
     "output_type": "execute_result"
    }
   ],
   "source": [
    "food.split(\",\")"
   ]
  },
  {
   "cell_type": "markdown",
   "id": "dba9daa4",
   "metadata": {},
   "source": [
    "# Basic Data Structure In Python\n",
    "\n",
    "#### 1-Tuple\n",
    "#### 2- List\n",
    "#### 3- Disctionaries\n",
    "#### 4- Set"
   ]
  },
  {
   "cell_type": "markdown",
   "id": "0f627745",
   "metadata": {},
   "source": [
    "## 1- Tuple\n",
    "- Ordered Collection of elements\n",
    "- Enclosed in () round braces / paranthesis\n",
    "- Different kind of elements can be stored\n",
    "- Once elements are stored you can not change then (unmutatable)"
   ]
  },
  {
   "cell_type": "code",
   "execution_count": 1,
   "id": "e8ca6ce7",
   "metadata": {
    "scrolled": true
   },
   "outputs": [
    {
     "data": {
      "text/plain": [
       "(1, 'python', True, 2.5)"
      ]
     },
     "execution_count": 1,
     "metadata": {},
     "output_type": "execute_result"
    }
   ],
   "source": [
    "tup1 = (1, \"python\", True, 2.5)\n",
    "tup1"
   ]
  },
  {
   "cell_type": "code",
   "execution_count": 2,
   "id": "2f59174f",
   "metadata": {},
   "outputs": [
    {
     "data": {
      "text/plain": [
       "tuple"
      ]
     },
     "execution_count": 2,
     "metadata": {},
     "output_type": "execute_result"
    }
   ],
   "source": [
    "# Type Of Tuple\n",
    "type (tup1)"
   ]
  },
  {
   "cell_type": "markdown",
   "id": "8a987ce4",
   "metadata": {},
   "source": [
    "### - Indexing of Tuple"
   ]
  },
  {
   "cell_type": "code",
   "execution_count": 3,
   "id": "01eebb6d",
   "metadata": {},
   "outputs": [
    {
     "data": {
      "text/plain": [
       "'python'"
      ]
     },
     "execution_count": 3,
     "metadata": {},
     "output_type": "execute_result"
    }
   ],
   "source": [
    "tup1 [1]"
   ]
  },
  {
   "cell_type": "code",
   "execution_count": 11,
   "id": "5e0b7fd0",
   "metadata": {},
   "outputs": [
    {
     "data": {
      "text/plain": [
       "True"
      ]
     },
     "execution_count": 11,
     "metadata": {},
     "output_type": "execute_result"
    }
   ],
   "source": [
    "tup1 [2]"
   ]
  },
  {
   "cell_type": "code",
   "execution_count": 10,
   "id": "94a1b394",
   "metadata": {},
   "outputs": [
    {
     "data": {
      "text/plain": [
       "(1, 'python', True)"
      ]
     },
     "execution_count": 10,
     "metadata": {},
     "output_type": "execute_result"
    }
   ],
   "source": [
    "# Last element is exclusive\n",
    "tup1 [0:3]"
   ]
  },
  {
   "cell_type": "code",
   "execution_count": 12,
   "id": "1a0895b2",
   "metadata": {},
   "outputs": [
    {
     "data": {
      "text/plain": [
       "4"
      ]
     },
     "execution_count": 12,
     "metadata": {},
     "output_type": "execute_result"
    }
   ],
   "source": [
    "# Counts Of Elements in Tuple\n",
    "len (tup1)"
   ]
  },
  {
   "cell_type": "code",
   "execution_count": 14,
   "id": "df52cc67",
   "metadata": {
    "scrolled": true
   },
   "outputs": [
    {
     "data": {
      "text/plain": [
       "('Shaheem', 14, True)"
      ]
     },
     "execution_count": 14,
     "metadata": {},
     "output_type": "execute_result"
    }
   ],
   "source": [
    "tup2 = (\"Shaheem\", 14, True)\n",
    "tup2"
   ]
  },
  {
   "cell_type": "code",
   "execution_count": 22,
   "id": "34bea468",
   "metadata": {
    "scrolled": true
   },
   "outputs": [
    {
     "data": {
      "text/plain": [
       "(1, 'python', True, 2.5, 1, 'python', True, 2.5)"
      ]
     },
     "execution_count": 22,
     "metadata": {},
     "output_type": "execute_result"
    }
   ],
   "source": [
    "# Concatinate (To Add Two Tuple or >2)\n",
    "tup1*2"
   ]
  },
  {
   "cell_type": "code",
   "execution_count": 24,
   "id": "8d022311",
   "metadata": {
    "scrolled": true
   },
   "outputs": [
    {
     "data": {
      "text/plain": [
       "(1, 'python', True, 2.5, 1, 'python', True, 2.5, 'Shaheem', 14, True)"
      ]
     },
     "execution_count": 24,
     "metadata": {},
     "output_type": "execute_result"
    }
   ],
   "source": [
    "# Concatinate + repeat\n",
    "tup1*2 + tup2"
   ]
  },
  {
   "cell_type": "code",
   "execution_count": 25,
   "id": "3f2409cc",
   "metadata": {},
   "outputs": [
    {
     "data": {
      "text/plain": [
       "(20, 55, 60, 75, 90)"
      ]
     },
     "execution_count": 25,
     "metadata": {},
     "output_type": "execute_result"
    }
   ],
   "source": [
    "tup3 = (20, 55, 60, 75, 90)\n",
    "tup3"
   ]
  },
  {
   "cell_type": "code",
   "execution_count": 27,
   "id": "3015d0d6",
   "metadata": {},
   "outputs": [
    {
     "data": {
      "text/plain": [
       "90"
      ]
     },
     "execution_count": 27,
     "metadata": {},
     "output_type": "execute_result"
    }
   ],
   "source": [
    "max (tup3)"
   ]
  },
  {
   "cell_type": "code",
   "execution_count": 28,
   "id": "5944314a",
   "metadata": {},
   "outputs": [
    {
     "data": {
      "text/plain": [
       "20"
      ]
     },
     "execution_count": 28,
     "metadata": {},
     "output_type": "execute_result"
    }
   ],
   "source": [
    "min (tup3)"
   ]
  },
  {
   "cell_type": "code",
   "execution_count": 29,
   "id": "7dabb933",
   "metadata": {
    "scrolled": true
   },
   "outputs": [
    {
     "data": {
      "text/plain": [
       "(20, 55, 60, 75, 90, 20, 55, 60, 75, 90, 20, 55, 60, 75, 90)"
      ]
     },
     "execution_count": 29,
     "metadata": {},
     "output_type": "execute_result"
    }
   ],
   "source": [
    "tup3*3"
   ]
  },
  {
   "cell_type": "markdown",
   "id": "e587ce46",
   "metadata": {},
   "source": [
    "### 2 -  List\n",
    "\n",
    "- Ordered collections of elements\n",
    "- Enclosed in [] Square Braces / Brackets\n",
    "- Mutatable, You Can Change The Values"
   ]
  },
  {
   "cell_type": "code",
   "execution_count": 1,
   "id": "8b6f78f2",
   "metadata": {},
   "outputs": [
    {
     "data": {
      "text/plain": [
       "[2, 'Shaheem', False]"
      ]
     },
     "execution_count": 1,
     "metadata": {},
     "output_type": "execute_result"
    }
   ],
   "source": [
    "list1 = [2, \"Shaheem\", False]\n",
    "list1"
   ]
  },
  {
   "cell_type": "code",
   "execution_count": 2,
   "id": "91712e32",
   "metadata": {},
   "outputs": [
    {
     "data": {
      "text/plain": [
       "list"
      ]
     },
     "execution_count": 2,
     "metadata": {},
     "output_type": "execute_result"
    }
   ],
   "source": [
    "type (list1)"
   ]
  },
  {
   "cell_type": "code",
   "execution_count": 3,
   "id": "9e37e0ed",
   "metadata": {},
   "outputs": [
    {
     "data": {
      "text/plain": [
       "3"
      ]
     },
     "execution_count": 3,
     "metadata": {},
     "output_type": "execute_result"
    }
   ],
   "source": [
    "len (list1)"
   ]
  },
  {
   "cell_type": "code",
   "execution_count": 6,
   "id": "20d6cb6e",
   "metadata": {},
   "outputs": [
    {
     "data": {
      "text/plain": [
       "False"
      ]
     },
     "execution_count": 6,
     "metadata": {},
     "output_type": "execute_result"
    }
   ],
   "source": [
    "list1 [2]"
   ]
  },
  {
   "cell_type": "code",
   "execution_count": 8,
   "id": "67d8f294",
   "metadata": {
    "scrolled": true
   },
   "outputs": [
    {
     "data": {
      "text/plain": [
       "[14,\n",
       " 'Shaheem Bin Shahrukh',\n",
       " True,\n",
       " 'Learning Python From Codanics YouTube Channel']"
      ]
     },
     "execution_count": 8,
     "metadata": {},
     "output_type": "execute_result"
    }
   ],
   "source": [
    "list2 = [14, \"Shaheem Bin Shahrukh\", True, \"Learning Python From Codanics YouTube Channel\",]\n",
    "list2"
   ]
  },
  {
   "cell_type": "code",
   "execution_count": 9,
   "id": "39cb0140",
   "metadata": {
    "scrolled": true
   },
   "outputs": [
    {
     "data": {
      "text/plain": [
       "[2,\n",
       " 'Shaheem',\n",
       " False,\n",
       " 14,\n",
       " 'Shaheem Bin Shahrukh',\n",
       " True,\n",
       " 'Learning Python From Codanics YouTube Channel']"
      ]
     },
     "execution_count": 9,
     "metadata": {},
     "output_type": "execute_result"
    }
   ],
   "source": [
    "list1 + list2"
   ]
  },
  {
   "cell_type": "code",
   "execution_count": 10,
   "id": "bbfe1f0d",
   "metadata": {},
   "outputs": [
    {
     "data": {
      "text/plain": [
       "[2, 'Shaheem', False, 2, 'Shaheem', False]"
      ]
     },
     "execution_count": 10,
     "metadata": {},
     "output_type": "execute_result"
    }
   ],
   "source": [
    "list1*2"
   ]
  },
  {
   "cell_type": "code",
   "execution_count": 16,
   "id": "c7b6c2a2",
   "metadata": {},
   "outputs": [
    {
     "data": {
      "text/plain": [
       "[2,\n",
       " 'Shaheem',\n",
       " False,\n",
       " 'My Name Is Shaheem Bin Shahrukh',\n",
       " 'My Name Is Shaheem Bin Shahrukh',\n",
       " 'My Name Is Shaheem Bin Shahrukh',\n",
       " 'My Name Is Shaheem Bin Shahrukh']"
      ]
     },
     "execution_count": 16,
     "metadata": {},
     "output_type": "execute_result"
    }
   ],
   "source": [
    "list1.append (\"My Name Is Shaheem Bin Shahrukh\")\n",
    "list1"
   ]
  },
  {
   "cell_type": "code",
   "execution_count": 19,
   "id": "a053725f",
   "metadata": {},
   "outputs": [
    {
     "data": {
      "text/plain": [
       "['My Name Is Shaheem Bin Shahrukh',\n",
       " 'My Name Is Shaheem Bin Shahrukh',\n",
       " 'My Name Is Shaheem Bin Shahrukh',\n",
       " 'My Name Is Shaheem Bin Shahrukh',\n",
       " False,\n",
       " 'Shaheem',\n",
       " 2]"
      ]
     },
     "execution_count": 19,
     "metadata": {},
     "output_type": "execute_result"
    }
   ],
   "source": [
    "list1.reverse()\n",
    "list1"
   ]
  },
  {
   "cell_type": "code",
   "execution_count": 15,
   "id": "fd9d2daf",
   "metadata": {},
   "outputs": [
    {
     "data": {
      "text/plain": [
       "[2, 'Shaheem', False]"
      ]
     },
     "execution_count": 15,
     "metadata": {},
     "output_type": "execute_result"
    }
   ],
   "source": [
    "list1 = [2, \"Shaheem\", False]\n",
    "list1"
   ]
  },
  {
   "cell_type": "code",
   "execution_count": 28,
   "id": "fae3f32b",
   "metadata": {
    "scrolled": true
   },
   "outputs": [
    {
     "data": {
      "text/plain": [
       "[14,\n",
       " 'Shaheem Bin Shahrukh',\n",
       " True,\n",
       " 'Learning Python From Codanics YouTube Channel']"
      ]
     },
     "execution_count": 28,
     "metadata": {},
     "output_type": "execute_result"
    }
   ],
   "source": [
    "list2 = [14, \"Shaheem Bin Shahrukh\", True, \"Learning Python From Codanics YouTube Channel\",]\n",
    "list2"
   ]
  },
  {
   "cell_type": "code",
   "execution_count": 29,
   "id": "4091892c",
   "metadata": {},
   "outputs": [
    {
     "data": {
      "text/plain": [
       "1"
      ]
     },
     "execution_count": 29,
     "metadata": {},
     "output_type": "execute_result"
    }
   ],
   "source": [
    "count = list2.count(14)\n",
    "count\n",
    "# List.count function"
   ]
  },
  {
   "cell_type": "code",
   "execution_count": 30,
   "id": "9c717e66",
   "metadata": {},
   "outputs": [
    {
     "data": {
      "text/plain": [
       "[20, 35, 56, 76, 87, 34, 24, 652, 563, 784, 12, 38]"
      ]
     },
     "execution_count": 30,
     "metadata": {},
     "output_type": "execute_result"
    }
   ],
   "source": [
    "list3 = [20,35,56,76,87,34,24,652,563,784,12,38]\n",
    "list3"
   ]
  },
  {
   "cell_type": "code",
   "execution_count": 31,
   "id": "9ae652e7",
   "metadata": {},
   "outputs": [
    {
     "data": {
      "text/plain": [
       "12"
      ]
     },
     "execution_count": 31,
     "metadata": {},
     "output_type": "execute_result"
    }
   ],
   "source": [
    "len (list3)"
   ]
  },
  {
   "cell_type": "code",
   "execution_count": 32,
   "id": "7b7f4caf",
   "metadata": {},
   "outputs": [
    {
     "data": {
      "text/plain": [
       "[12, 20, 24, 34, 35, 38, 56, 76, 87, 563, 652, 784]"
      ]
     },
     "execution_count": 32,
     "metadata": {},
     "output_type": "execute_result"
    }
   ],
   "source": [
    "# Sorting A List\n",
    "list3.sort()\n",
    "list3"
   ]
  },
  {
   "cell_type": "code",
   "execution_count": 33,
   "id": "923bb528",
   "metadata": {},
   "outputs": [
    {
     "data": {
      "text/plain": [
       "[12,\n",
       " 20,\n",
       " 24,\n",
       " 34,\n",
       " 35,\n",
       " 38,\n",
       " 56,\n",
       " 76,\n",
       " 87,\n",
       " 563,\n",
       " 652,\n",
       " 784,\n",
       " 12,\n",
       " 20,\n",
       " 24,\n",
       " 34,\n",
       " 35,\n",
       " 38,\n",
       " 56,\n",
       " 76,\n",
       " 87,\n",
       " 563,\n",
       " 652,\n",
       " 784,\n",
       " 12,\n",
       " 20,\n",
       " 24,\n",
       " 34,\n",
       " 35,\n",
       " 38,\n",
       " 56,\n",
       " 76,\n",
       " 87,\n",
       " 563,\n",
       " 652,\n",
       " 784]"
      ]
     },
     "execution_count": 33,
     "metadata": {},
     "output_type": "execute_result"
    }
   ],
   "source": [
    "list3*3"
   ]
  },
  {
   "cell_type": "code",
   "execution_count": 36,
   "id": "7c53f0f5",
   "metadata": {},
   "outputs": [
    {
     "data": {
      "text/plain": [
       "[2,\n",
       " 'Shaheem',\n",
       " False,\n",
       " 14,\n",
       " 'Shaheem Bin Shahrukh',\n",
       " True,\n",
       " 'Learning Python From Codanics YouTube Channel',\n",
       " 12,\n",
       " 20,\n",
       " 24,\n",
       " 34,\n",
       " 35,\n",
       " 38,\n",
       " 56,\n",
       " 76,\n",
       " 87,\n",
       " 563,\n",
       " 652,\n",
       " 784]"
      ]
     },
     "execution_count": 36,
     "metadata": {},
     "output_type": "execute_result"
    }
   ],
   "source": [
    "lists =  list1 + list2 + list3\n",
    "lists"
   ]
  },
  {
   "cell_type": "markdown",
   "id": "dffa1324",
   "metadata": {},
   "source": [
    "## 3 - Dictionaries\n",
    "- An Unordered Collection of Elements \n",
    "- Key and Value\n",
    "- Curly Braces/Brackets { }\n",
    "- Mutatable/Change the Values"
   ]
  },
  {
   "cell_type": "code",
   "execution_count": 1,
   "id": "9a7468fb",
   "metadata": {},
   "outputs": [
    {
     "data": {
      "text/plain": [
       "{'Faluda': 200, 'Lychee': 300, 'Mango': 100, 'Cone': 90}"
      ]
     },
     "execution_count": 1,
     "metadata": {},
     "output_type": "execute_result"
    }
   ],
   "source": [
    "# Food and their Prices\n",
    "food1 = {\"Faluda\" : 200, \"Lychee\" : 300, \"Mango\" : 100, \"Cone\" : 90}\n",
    "food1"
   ]
  },
  {
   "cell_type": "code",
   "execution_count": 2,
   "id": "0c1c1b0f",
   "metadata": {},
   "outputs": [
    {
     "data": {
      "text/plain": [
       "dict"
      ]
     },
     "execution_count": 2,
     "metadata": {},
     "output_type": "execute_result"
    }
   ],
   "source": [
    "type (food1)"
   ]
  },
  {
   "cell_type": "code",
   "execution_count": 4,
   "id": "43f9dd72",
   "metadata": {},
   "outputs": [
    {
     "data": {
      "text/plain": [
       "dict_keys(['Faluda', 'Lychee', 'Mango', 'Cone'])"
      ]
     },
     "execution_count": 4,
     "metadata": {},
     "output_type": "execute_result"
    }
   ],
   "source": [
    "# Extract Data\n",
    "keys1 = food1.keys()\n",
    "keys1"
   ]
  },
  {
   "cell_type": "code",
   "execution_count": 6,
   "id": "470d50a4",
   "metadata": {},
   "outputs": [
    {
     "data": {
      "text/plain": [
       "dict_values([200, 300, 100, 90])"
      ]
     },
     "execution_count": 6,
     "metadata": {},
     "output_type": "execute_result"
    }
   ],
   "source": [
    "values1 = food1.values ()\n",
    "values1"
   ]
  },
  {
   "cell_type": "code",
   "execution_count": 9,
   "id": "56e3e223",
   "metadata": {},
   "outputs": [
    {
     "data": {
      "text/plain": [
       "{'Faluda': 200, 'Lychee': 300, 'Mango': 100, 'Cone': 90, 'Cold Drink': 70}"
      ]
     },
     "execution_count": 9,
     "metadata": {},
     "output_type": "execute_result"
    }
   ],
   "source": [
    "# Adding New Element\n",
    "food1 [\"Cold Drink\"]=70\n",
    "food1"
   ]
  },
  {
   "cell_type": "code",
   "execution_count": null,
   "id": "f9b39722",
   "metadata": {},
   "outputs": [],
   "source": [
    "# Update The Values\n",
    "food1 [\"Cold Drink\"] = 150\n",
    "food1"
   ]
  },
  {
   "cell_type": "code",
   "execution_count": 14,
   "id": "5d0aba38",
   "metadata": {},
   "outputs": [
    {
     "data": {
      "text/plain": [
       "{'Nimko': 100, 'Cake': 1500, 'Samosa': 400, 'Rolls': 350, 'Fruit Chat': 220}"
      ]
     },
     "execution_count": 14,
     "metadata": {},
     "output_type": "execute_result"
    }
   ],
   "source": [
    "food2 = {\"Nimko\" : 100, \"Cake\" : 1500, \"Samosa\" : 400, \"Rolls\" : 350, \"Fruit Chat\" : 220}\n",
    "food2 "
   ]
  },
  {
   "cell_type": "code",
   "execution_count": 16,
   "id": "46efd4fd",
   "metadata": {},
   "outputs": [
    {
     "data": {
      "text/plain": [
       "{'Faluda': 200,\n",
       " 'Lychee': 300,\n",
       " 'Mango': 100,\n",
       " 'Cone': 90,\n",
       " 'Cold Drink': 150,\n",
       " 'Nimko': 100,\n",
       " 'Cake': 1500,\n",
       " 'Samosa': 400,\n",
       " 'Rolls': 350,\n",
       " 'Fruit Chat': 220}"
      ]
     },
     "execution_count": 16,
     "metadata": {},
     "output_type": "execute_result"
    }
   ],
   "source": [
    "# Concatinate\n",
    "food1.update (food2)\n",
    "food1"
   ]
  },
  {
   "cell_type": "markdown",
   "id": "480bc440",
   "metadata": {},
   "source": [
    "## 4 - Sets\n",
    "- Unordered and Unindexed\n",
    "- Curly Braces are used\n",
    "- No Duplicates Allowed"
   ]
  },
  {
   "cell_type": "code",
   "execution_count": 17,
   "id": "24d56054",
   "metadata": {},
   "outputs": [
    {
     "data": {
      "text/plain": [
       "{14, 'Coder', 'Crypto Trader', 'Shaheem', True}"
      ]
     },
     "execution_count": 17,
     "metadata": {},
     "output_type": "execute_result"
    }
   ],
   "source": [
    "s1 = {14, \"Shaheem\", \"Crypto Trader\", \"Coder\", True }\n",
    "s1"
   ]
  },
  {
   "cell_type": "code",
   "execution_count": 20,
   "id": "c0447997",
   "metadata": {},
   "outputs": [
    {
     "data": {
      "text/plain": [
       "{14, 'Coder', 'Crypto Trader', 'Server Manager', 'Shaheem', True}"
      ]
     },
     "execution_count": 20,
     "metadata": {},
     "output_type": "execute_result"
    }
   ],
   "source": [
    "s1.add (\"Server Manager\")\n",
    "s1"
   ]
  },
  {
   "cell_type": "code",
   "execution_count": 21,
   "id": "d881f6d6",
   "metadata": {},
   "outputs": [
    {
     "data": {
      "text/plain": [
       "{14, 'Coder', 'Crypto Trader', 'Server Manager', 'Shaheem'}"
      ]
     },
     "execution_count": 21,
     "metadata": {},
     "output_type": "execute_result"
    }
   ],
   "source": [
    "s1.remove (True)\n",
    "s1"
   ]
  }
 ],
 "metadata": {
  "kernelspec": {
   "display_name": "Python 3 (ipykernel)",
   "language": "python",
   "name": "python3"
  },
  "language_info": {
   "codemirror_mode": {
    "name": "ipython",
    "version": 3
   },
   "file_extension": ".py",
   "mimetype": "text/x-python",
   "name": "python",
   "nbconvert_exporter": "python",
   "pygments_lexer": "ipython3",
   "version": "3.10.9"
  }
 },
 "nbformat": 4,
 "nbformat_minor": 5
}
